{
 "cells": [
  {
   "cell_type": "code",
   "execution_count": 4,
   "id": "4f426579-cab0-465c-89e4-c0c8a29d47e6",
   "metadata": {},
   "outputs": [],
   "source": [
    "#Manipulação de Dados\n",
    "import pandas as pd\n",
    "import numpy as np\n",
    "#Visualização de Dados\n",
    "import matplotlib.pyplot as plt\n",
    "import seaborn as sns\n",
    "\n",
    "#Machine Learning\n",
    "from sklearn.model_selection import train_test_split\n",
    "from sklearn.linear_model import LinearRegression\n",
    "from sklearn.metrics import mean_squared_error"
   ]
  },
  {
   "cell_type": "code",
   "execution_count": 14,
   "id": "45a9bfc0-e655-477a-a23d-eb721a394ee5",
   "metadata": {},
   "outputs": [
    {
     "name": "stdout",
     "output_type": "stream",
     "text": [
      "Número de dados removidos: 36\n",
      "Arquivo salvo\n"
     ]
    }
   ],
   "source": [
    "df = pd.read_csv(\"data/feedback.csv\")\n",
    "\n",
    "critical_columns = [\n",
    "    \"Nome Completo\",\n",
    "    \"Endereço de e-mail\",\n",
    "    \"Em qual grupo você está?\"\n",
    "]\n",
    "\n",
    "lost_data = 0\n",
    "\n",
    "for i in range(len(critical_columns)):\n",
    "    lost_data += df[critical_columns[i]].isna().sum()\n",
    "\n",
    "df_normalized = df.dropna(subset=critical_columns)\n",
    "\n",
    "df_normalized = df_normalized.reset_index(drop=True)\n",
    "\n",
    "print(f\"Número de dados removidos: {lost_data}\")\n",
    "\n",
    "df_normalized.to_csv(\"data/feedback_normalized.csv\", index=False)\n",
    "print(\"Arquivo salvo\")"
   ]
  },
  {
   "cell_type": "code",
   "execution_count": null,
   "id": "be04249b-60f5-49ef-a50e-78cfeef7bcef",
   "metadata": {},
   "outputs": [],
   "source": []
  }
 ],
 "metadata": {
  "kernelspec": {
   "display_name": "Python 3 (ipykernel)",
   "language": "python",
   "name": "python3"
  },
  "language_info": {
   "codemirror_mode": {
    "name": "ipython",
    "version": 3
   },
   "file_extension": ".py",
   "mimetype": "text/x-python",
   "name": "python",
   "nbconvert_exporter": "python",
   "pygments_lexer": "ipython3",
   "version": "3.13.1"
  }
 },
 "nbformat": 4,
 "nbformat_minor": 5
}
