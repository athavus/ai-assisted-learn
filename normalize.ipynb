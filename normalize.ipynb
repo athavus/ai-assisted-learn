{
 "cells": [
  {
   "cell_type": "code",
   "execution_count": null,
   "id": "4f426579-cab0-465c-89e4-c0c8a29d47e6",
   "metadata": {},
   "outputs": [],
   "source": [
    "#Manipulação de Dados\n",
    "import pandas as pd\n",
    "import numpy as np\n",
    "#Visualização de Dados\n",
    "import matplotlib.pyplot as plt\n",
    "import seaborn as sns\n",
    "\n",
    "#Machine Learning\n",
    "from sklearn.model_selection import train_test_split\n",
    "from sklearn.linear_model import LinearRegression\n",
    "from sklearn.metrics import mean_squared_error\n",
    "\n",
    "#Alteração de nomes de arquivos e leitura de diretórios\n",
    "import os"
   ]
  },
  {
   "cell_type": "code",
   "execution_count": 14,
   "id": "45a9bfc0-e655-477a-a23d-eb721a394ee5",
   "metadata": {},
   "outputs": [
    {
     "name": "stdout",
     "output_type": "stream",
     "text": [
      "Número de dados removidos: 36\n",
      "Arquivo salvo\n"
     ]
    }
   ],
   "source": [
    "df = pd.read_csv(\"data/feedback.csv\")\n",
    "\n",
    "critical_columns = [\n",
    "    \"Nome Completo\",\n",
    "    \"Endereço de e-mail\",\n",
    "    \"Em qual grupo você está?\"\n",
    "]\n",
    "\n",
    "lost_data = 0\n",
    "\n",
    "for i in range(len(critical_columns)):\n",
    "    lost_data += df[critical_columns[i]].isna().sum()\n",
    "\n",
    "df_normalized = df.dropna(subset=critical_columns)\n",
    "\n",
    "df_normalized = df_normalized.reset_index(drop=True)\n",
    "\n",
    "print(f\"Número de dados removidos: {lost_data}\")\n",
    "\n",
    "df_normalized.to_csv(\"data/feedback_normalized.csv\", index=False)\n",
    "print(\"Arquivo salvo\")"
   ]
  },
  {
   "cell_type": "markdown",
   "id": "122ae1fe",
   "metadata": {},
   "source": [
    "Uses `data/classworks` as the base directory, with subfolders `turma 1`, `turma 2`, and `turma 3` representing different class groups."
   ]
  },
  {
   "cell_type": "code",
   "execution_count": null,
   "id": "4ec0e35a",
   "metadata": {},
   "outputs": [],
   "source": [
    "base_path = \"data/classworks\"\n",
    "\n",
    "subfolders = [\"turma 1\", \"turma 2\", \"turma 3\"]"
   ]
  },
  {
   "cell_type": "markdown",
   "id": "a1422da1",
   "metadata": {},
   "source": [
    "Checking subfolders for `.xls` files and creating corresponding `.csv` files if they do not already exist."
   ]
  },
  {
   "cell_type": "code",
   "execution_count": null,
   "id": "f4a2201e",
   "metadata": {},
   "outputs": [],
   "source": [
    "\n",
    "for subfolder in subfolders:\n",
    "    folder_path = os.path.join(base_path, subfolder)\n",
    "    if not os.path.exists(folder_path):\n",
    "        print(f\"Pasta não encontrada: {folder_path}\")\n",
    "        continue\n",
    "\n",
    "    files_in_folder = os.listdir(folder_path)\n",
    "\n",
    "    xls_files = [file for file in files_in_folder if file.endswith(\".xls\")]\n",
    "\n",
    "    for xls_file in xls_files:\n",
    "        csv_file = f\"{os.path.splitext(xls_file)[0]}.csv\"\n",
    "\n",
    "        if csv_file not in files_in_folder:\n",
    "            xls_path = os.path.join(folder_path, xls_file)\n",
    "            csv_path = os.path.join(folder_path, csv_file)\n",
    "\n",
    "            try:\n",
    "                df = pd.read_excel(xls_path)\n",
    "                df.to_csv(csv_path, index=False)\n",
    "                print(f\"Arquivo criado: {csv_path}\")\n",
    "            except Exception as e:\n",
    "                print(f\"Erro ao processar {xls_path}: {e}\")\n",
    "        else:\n",
    "            print(f\"Arquivo já existe: {csv_file}\")"
   ]
  },
  {
   "cell_type": "markdown",
   "id": "a2caea26",
   "metadata": {},
   "source": [
    "Checking for `.xls` files that do not have a corresponding `.csv` file (for verification purposes)."
   ]
  },
  {
   "cell_type": "code",
   "execution_count": null,
   "id": "be04249b-60f5-49ef-a50e-78cfeef7bcef",
   "metadata": {},
   "outputs": [],
   "source": [
    "\n",
    "for subfolder in subfolders:\n",
    "    folder_path = os.path.join(base_path, subfolder)\n",
    "    if not os.path.exists(folder_path):\n",
    "        print(f\"Pasta não encontrada: {folder_path}\")\n",
    "        continue\n",
    "\n",
    "    files_in_folder = os.listdir(folder_path)\n",
    "\n",
    "    xls_files = [file for file in files_in_folder if file.endswith(\".xls\")]\n",
    "\n",
    "    xls_without_csv = [\n",
    "        file for file in xls_files if f\"{os.path.splitext(file)[0]}.csv\" not in files_in_folder\n",
    "    ]\n",
    "\n",
    "    print(f\"\\nArquivos .xls sem correspondência em .csv na pasta '{subfolder}':\")\n",
    "    if xls_without_csv:\n",
    "        for file in xls_without_csv:\n",
    "            print(file)\n",
    "    else:\n",
    "        print(\"Nenhum arquivo encontrado.\")"
   ]
  },
  {
   "cell_type": "markdown",
   "id": "cc8e9729",
   "metadata": {},
   "source": [
    "Processes `.csv` and `.xls(x)` files in each class folder by skipping the first two rows and overwriting the originals."
   ]
  },
  {
   "cell_type": "code",
   "execution_count": null,
   "id": "55c413b8",
   "metadata": {},
   "outputs": [],
   "source": [
    "\n",
    "for subfolder in subfolders:\n",
    "    folder_path = os.path.join(base_path, subfolder)\n",
    "    if not os.path.exists(folder_path):\n",
    "        print(f\"Pasta não encontrada: {folder_path}\")\n",
    "        continue\n",
    "\n",
    "    files_in_folder = os.listdir(folder_path)\n",
    "\n",
    "    # Filtrar arquivos com extensão .csv e .xls\n",
    "    csv_files = [file for file in files_in_folder if file.endswith(\".csv\")]\n",
    "    xls_files = [file for file in files_in_folder if file.endswith((\".xls\", \".xlsx\"))]\n",
    "\n",
    "    for csv_file in csv_files:\n",
    "        csv_path = os.path.join(folder_path, csv_file)\n",
    "        try:\n",
    "\n",
    "            df = pd.read_csv(csv_path, skiprows=2)\n",
    "\n",
    "            df.to_csv(csv_path, index=False)\n",
    "            print(f\"Processado: {csv_path}\")\n",
    "        except Exception as e:\n",
    "            print(f\"Erro ao processar {csv_path}: {e}\")\n",
    " \n",
    "    for xls_file in xls_files:\n",
    "        xls_path = os.path.join(folder_path, xls_file)\n",
    "        try:\n",
    "\n",
    "            df = pd.read_excel(xls_path, skiprows=2)\n",
    "            # Sobrescrever o arquivo original\n",
    "            df.to_excel(xls_path, index=False)\n",
    "            print(f\"Processado: {xls_path}\")\n",
    "        except Exception as e:\n",
    "            print(f\"Erro ao processar {xls_path}: {e}\")"
   ]
  },
  {
   "cell_type": "markdown",
   "id": "14ad8ca1",
   "metadata": {},
   "source": [
    "Extracts metadata and student grades from `.csv` files, restructures and cleans the data, then saves it as a corrected file."
   ]
  },
  {
   "cell_type": "code",
   "execution_count": null,
   "id": "812595c1",
   "metadata": {},
   "outputs": [],
   "source": [
    "\n",
    "for subfolder in subfolders:\n",
    "    folder_path = os.path.join(base_path, subfolder)\n",
    "    if not os.path.exists(folder_path):\n",
    "        print(f\"Pasta não encontrada: {folder_path}\")\n",
    "        continue\n",
    "\n",
    "    files_in_folder = os.listdir(folder_path)\n",
    "\n",
    "    csv_files = [file for file in files_in_folder if file.endswith(\".csv\")]\n",
    "\n",
    "    for csv_file in csv_files:\n",
    "        csv_path = os.path.join(folder_path, csv_file)\n",
    "        try:\n",
    "\n",
    "            df_raw = pd.read_csv(csv_path, header=None)\n",
    "\n",
    "            titulo = df_raw.iloc[0, 1]  \n",
    "            pontuacao = df_raw.iloc[0, 4]  \n",
    "            grupo = df_raw.iloc[2, 1]  \n",
    "            data = df_raw.iloc[2, 3] if not pd.isna(df_raw.iloc[2, 3]) else None  \n",
    "\n",
    "            alunos_notas = df_raw.iloc[5:, [0, 4]] \n",
    "            alunos_notas.columns = [\"ALUNO\", \"NOTA\"]  \n",
    "\n",
    "            alunos_notas[\"NOTA\"] = pd.to_numeric(alunos_notas[\"NOTA\"], errors=\"coerce\")\n",
    "\n",
    "            # Padronizar os nomes dos alunos (capitalizar)\n",
    "            alunos_notas[\"ALUNO\"] = alunos_notas[\"ALUNO\"].str.title()\n",
    "\n",
    "            alunos_notas[\"TÍTULO\"] = titulo\n",
    "            alunos_notas[\"PONTUAÇÃO\"] = pontuacao\n",
    "            alunos_notas[\"GRUPO\"] = grupo\n",
    "            alunos_notas[\"DATA\"] = data\n",
    "\n",
    "            final_df = alunos_notas[[\"TÍTULO\", \"PONTUAÇÃO\", \"GRUPO\", \"DATA\", \"ALUNO\", \"NOTA\"]].reset_index(drop=True)\n",
    "\n",
    "            output_path = os.path.join(folder_path, f\"{os.path.splitext(csv_file)[0]}-Corrigido.csv\")\n",
    "            final_df.to_csv(output_path, index=False)\n",
    "            print(f\"Arquivo processado e salvo: {output_path}\")\n",
    "\n",
    "        except Exception as e:\n",
    "            print(f\"Erro ao processar {csv_path}: {e}\")"
   ]
  },
  {
   "cell_type": "markdown",
   "id": "5e6a44f2",
   "metadata": {},
   "source": [
    "Renames `-Corrigido.csv` files by replacing `'Atvdd'` with `'Atividade'` in their filenames across all class folders. "
   ]
  },
  {
   "cell_type": "code",
   "execution_count": null,
   "id": "b64104c4",
   "metadata": {},
   "outputs": [],
   "source": [
    "\n",
    "for subfolder in subfolders:\n",
    "    folder_path = os.path.join(base_path, subfolder)\n",
    "    if not os.path.exists(folder_path):\n",
    "        print(f\"Pasta não encontrada: {folder_path}\")\n",
    "        continue\n",
    "\n",
    "    files_in_folder = os.listdir(folder_path)\n",
    "\n",
    "    corrigido_files = [file for file in files_in_folder if file.endswith(\"-Corrigido.csv\")]\n",
    "\n",
    "    for corrigido_file in corrigido_files:\n",
    "        old_path = os.path.join(folder_path, corrigido_file)\n",
    "        # Substituir 'Atvdd' por 'Atividade' no nome do arquivo\n",
    "        new_file_name = corrigido_file.replace(\"Atvdd\", \"Atividade\")\n",
    "        new_path = os.path.join(folder_path, new_file_name)\n",
    "\n",
    "        try:\n",
    "\n",
    "            os.rename(old_path, new_path)\n",
    "            print(f\"Renomeado: {old_path} -> {new_path}\")\n",
    "        except Exception as e:\n",
    "            print(f\"Erro ao renomear {old_path}: {e}\")"
   ]
  },
  {
   "cell_type": "markdown",
   "id": "0b339ec8",
   "metadata": {},
   "source": [
    "Renames files starting with `Atividade` and ending with `-Corrigido.csv` by removing the `-Corrigido` suffix.  "
   ]
  },
  {
   "cell_type": "code",
   "execution_count": null,
   "id": "bd609f4a",
   "metadata": {},
   "outputs": [],
   "source": [
    "\n",
    "for subfolder in subfolders:\n",
    "    folder_path = os.path.join(base_path, subfolder)\n",
    "    if not os.path.exists(folder_path):\n",
    "        print(f\"Pasta não encontrada: {folder_path}\")\n",
    "        continue\n",
    "\n",
    "    files_in_folder = os.listdir(folder_path)\n",
    "\n",
    "    # Filtrar arquivos que começam com \"Atividade\" e terminam com \"-Corrigido.csv\"\n",
    "    corrigido_files = [\n",
    "        file for file in files_in_folder if file.startswith(\"Atividade\") and file.endswith(\"-Corrigido.csv\")\n",
    "    ]\n",
    "\n",
    "    for corrigido_file in corrigido_files:\n",
    "        old_path = os.path.join(folder_path, corrigido_file)\n",
    "        new_file_name = corrigido_file.replace(\"-Corrigido\", \"\")\n",
    "        new_path = os.path.join(folder_path, new_file_name)\n",
    "\n",
    "        try:\n",
    "\n",
    "            os.rename(old_path, new_path)\n",
    "            print(f\"Renomeado: {old_path} -> {new_path}\")\n",
    "        except Exception as e:\n",
    "            print(f\"Erro ao renomear {old_path}: {e}\")"
   ]
  }
 ],
 "metadata": {
  "kernelspec": {
   "display_name": "ai_assisted_learn",
   "language": "python",
   "name": "python3"
  },
  "language_info": {
   "codemirror_mode": {
    "name": "ipython",
    "version": 3
   },
   "file_extension": ".py",
   "mimetype": "text/x-python",
   "name": "python",
   "nbconvert_exporter": "python",
   "pygments_lexer": "ipython3",
   "version": "3.13.3"
  }
 },
 "nbformat": 4,
 "nbformat_minor": 5
}
